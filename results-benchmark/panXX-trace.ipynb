{
 "cells": [
  {
   "cell_type": "code",
   "execution_count": 1,
   "metadata": {},
   "outputs": [],
   "source": [
    "import pandas as pd\n",
    "import numpy as np\n",
    "import matplotlib\n",
    "from sklearn.linear_model import LinearRegression\n",
    "from sklearn.metrics import r2_score\n",
    "import matplotlib.pyplot as plt\n",
    "from matplotlib.lines import Line2D"
   ]
  },
  {
   "cell_type": "code",
   "execution_count": 2,
   "metadata": {},
   "outputs": [],
   "source": [
    "def to_seconds(time):\n",
    "    s = 0\n",
    "    if \"h\" in time:\n",
    "        h, time = time.split(\"h\")\n",
    "        s += 3600*int(h)\n",
    "    if \"m\" in time:\n",
    "        m, time = time.split(\"m\")\n",
    "        s += 60*int(m)\n",
    "    if \"s\" in time:\n",
    "        s += float(time.split(\"s\")[0])\n",
    "    return s\n",
    "\n",
    "def strip_parenthesis(s):\n",
    "    return s.split(\" (\")[0][6:]\n",
    "\n",
    "def get_decimal(p):\n",
    "    return float(p.split(\"%\")[0])/100"
   ]
  },
  {
   "cell_type": "code",
   "execution_count": 8,
   "metadata": {},
   "outputs": [],
   "source": [
    "out = []\n",
    "\n",
    "#read in data\n",
    "df = pd.read_csv(\"panXX-trace-500-re-nf.txt\",sep=\"\\t\")\n",
    "\n",
    "#filter by completed runs\n",
    "df = df[[\"process\",\"duration\",\"%cpu\"]]\n",
    "\n",
    "#format data\n",
    "# df.loc[:,\"process\"] = df[\"process\"].apply(strip_parenthesis)\n",
    "df.loc[:,\"duration\"] = df[\"duration\"].apply(to_seconds)\n",
    "# df.loc[:,\"%cpu\"] = df[\"%cpu\"].apply(get_decimal)\n",
    "\n",
    "df[\"CPU hours\"] = df[\"duration\"]/3600 * df[\"%cpu\"]/100"
   ]
  },
  {
   "cell_type": "code",
   "execution_count": 12,
   "metadata": {},
   "outputs": [
    {
     "data": {
      "text/plain": [
       "30.907419166666667"
      ]
     },
     "execution_count": 12,
     "metadata": {},
     "output_type": "execute_result"
    }
   ],
   "source": [
    "sum(df[\"CPU hours\"])"
   ]
  },
  {
   "cell_type": "code",
   "execution_count": 10,
   "metadata": {},
   "outputs": [],
   "source": [
    "processes = df.groupby(\"process\").agg({\"duration\":\"mean\",\"%cpu\":\"mean\",\"CPU hours\":\"sum\"})"
   ]
  },
  {
   "cell_type": "code",
   "execution_count": 13,
   "metadata": {},
   "outputs": [
    {
     "data": {
      "text/html": [
       "<div>\n",
       "<style scoped>\n",
       "    .dataframe tbody tr th:only-of-type {\n",
       "        vertical-align: middle;\n",
       "    }\n",
       "\n",
       "    .dataframe tbody tr th {\n",
       "        vertical-align: top;\n",
       "    }\n",
       "\n",
       "    .dataframe thead th {\n",
       "        text-align: right;\n",
       "    }\n",
       "</style>\n",
       "<table border=\"1\" class=\"dataframe\">\n",
       "  <thead>\n",
       "    <tr style=\"text-align: right;\">\n",
       "      <th></th>\n",
       "      <th>process</th>\n",
       "      <th>duration</th>\n",
       "      <th>%cpu</th>\n",
       "      <th>CPU hours</th>\n",
       "    </tr>\n",
       "  </thead>\n",
       "  <tbody>\n",
       "    <tr>\n",
       "      <th>0</th>\n",
       "      <td>panXX:aggregate_clusters</td>\n",
       "      <td>637.196429</td>\n",
       "      <td>94.128571</td>\n",
       "      <td>9.332346</td>\n",
       "    </tr>\n",
       "    <tr>\n",
       "      <th>1</th>\n",
       "      <td>panXX:refine_clusters</td>\n",
       "      <td>729.184211</td>\n",
       "      <td>107.447368</td>\n",
       "      <td>8.271083</td>\n",
       "    </tr>\n",
       "    <tr>\n",
       "      <th>2</th>\n",
       "      <td>panXX:align_and_tree</td>\n",
       "      <td>688.789474</td>\n",
       "      <td>105.228947</td>\n",
       "      <td>7.638491</td>\n",
       "    </tr>\n",
       "    <tr>\n",
       "      <th>3</th>\n",
       "      <td>panXX:individual_export</td>\n",
       "      <td>236.589286</td>\n",
       "      <td>110.978571</td>\n",
       "      <td>4.08349</td>\n",
       "    </tr>\n",
       "    <tr>\n",
       "      <th>4</th>\n",
       "      <td>panXX:mmseqs_cluster</td>\n",
       "      <td>164.0</td>\n",
       "      <td>964.800000</td>\n",
       "      <td>0.43952</td>\n",
       "    </tr>\n",
       "    <tr>\n",
       "      <th>5</th>\n",
       "      <td>panXX:gene_gain_loss</td>\n",
       "      <td>2129.0</td>\n",
       "      <td>66.900000</td>\n",
       "      <td>0.395639</td>\n",
       "    </tr>\n",
       "    <tr>\n",
       "      <th>6</th>\n",
       "      <td>panXX:strain_tree</td>\n",
       "      <td>1329.0</td>\n",
       "      <td>100.400000</td>\n",
       "      <td>0.370643</td>\n",
       "    </tr>\n",
       "    <tr>\n",
       "      <th>7</th>\n",
       "      <td>panXX:prepare_input</td>\n",
       "      <td>683.0</td>\n",
       "      <td>95.500000</td>\n",
       "      <td>0.181185</td>\n",
       "    </tr>\n",
       "    <tr>\n",
       "      <th>8</th>\n",
       "      <td>panXX:snp_matrix</td>\n",
       "      <td>966.0</td>\n",
       "      <td>30.600000</td>\n",
       "      <td>0.08211</td>\n",
       "    </tr>\n",
       "    <tr>\n",
       "      <th>9</th>\n",
       "      <td>panXX:mmseqs_post</td>\n",
       "      <td>294.0</td>\n",
       "      <td>73.400000</td>\n",
       "      <td>0.059943</td>\n",
       "    </tr>\n",
       "    <tr>\n",
       "      <th>10</th>\n",
       "      <td>panXX:collective_export</td>\n",
       "      <td>953.0</td>\n",
       "      <td>10.500000</td>\n",
       "      <td>0.027796</td>\n",
       "    </tr>\n",
       "    <tr>\n",
       "      <th>11</th>\n",
       "      <td>panXX:write_seq_DB</td>\n",
       "      <td>183.0</td>\n",
       "      <td>45.000000</td>\n",
       "      <td>0.022875</td>\n",
       "    </tr>\n",
       "    <tr>\n",
       "      <th>12</th>\n",
       "      <td>panXX:calculate_average_diversity</td>\n",
       "      <td>188.0</td>\n",
       "      <td>4.400000</td>\n",
       "      <td>0.002298</td>\n",
       "    </tr>\n",
       "  </tbody>\n",
       "</table>\n",
       "</div>"
      ],
      "text/plain": [
       "                              process    duration        %cpu CPU hours\n",
       "0            panXX:aggregate_clusters  637.196429   94.128571  9.332346\n",
       "1               panXX:refine_clusters  729.184211  107.447368  8.271083\n",
       "2                panXX:align_and_tree  688.789474  105.228947  7.638491\n",
       "3             panXX:individual_export  236.589286  110.978571   4.08349\n",
       "4                panXX:mmseqs_cluster       164.0  964.800000   0.43952\n",
       "5                panXX:gene_gain_loss      2129.0   66.900000  0.395639\n",
       "6                   panXX:strain_tree      1329.0  100.400000  0.370643\n",
       "7                 panXX:prepare_input       683.0   95.500000  0.181185\n",
       "8                    panXX:snp_matrix       966.0   30.600000   0.08211\n",
       "9                   panXX:mmseqs_post       294.0   73.400000  0.059943\n",
       "10            panXX:collective_export       953.0   10.500000  0.027796\n",
       "11                 panXX:write_seq_DB       183.0   45.000000  0.022875\n",
       "12  panXX:calculate_average_diversity       188.0    4.400000  0.002298"
      ]
     },
     "execution_count": 13,
     "metadata": {},
     "output_type": "execute_result"
    }
   ],
   "source": [
    "processes.sort_values(\"CPU hours\",ascending=False).reset_index()"
   ]
  },
  {
   "cell_type": "code",
   "execution_count": 15,
   "metadata": {},
   "outputs": [
    {
     "data": {
      "text/plain": [
       "process\n",
       "panXX:aggregate_clusters             30.194517\n",
       "panXX:align_and_tree                 24.714102\n",
       "panXX:calculate_average_diversity     0.007434\n",
       "panXX:collective_export               0.089933\n",
       "panXX:gene_gain_loss                  1.280078\n",
       "panXX:individual_export              13.212005\n",
       "panXX:mmseqs_cluster                  1.422053\n",
       "panXX:mmseqs_post                     0.193945\n",
       "panXX:prepare_input                   0.586218\n",
       "panXX:refine_clusters                26.760835\n",
       "panXX:snp_matrix                      0.265664\n",
       "panXX:strain_tree                     1.199205\n",
       "panXX:write_seq_DB                    0.074011\n",
       "Name: CPU hours, dtype: object"
      ]
     },
     "execution_count": 15,
     "metadata": {},
     "output_type": "execute_result"
    }
   ],
   "source": [
    "processes[\"CPU hours\"]/30.907419166666667*100"
   ]
  },
  {
   "cell_type": "code",
   "execution_count": 16,
   "metadata": {},
   "outputs": [
    {
     "data": {
      "text/plain": [
       "94.881459"
      ]
     },
     "execution_count": 16,
     "metadata": {},
     "output_type": "execute_result"
    }
   ],
   "source": [
    "30.194517 + 24.714102 + 13.212005 + 26.760835"
   ]
  },
  {
   "cell_type": "code",
   "execution_count": null,
   "metadata": {},
   "outputs": [],
   "source": []
  }
 ],
 "metadata": {
  "kernelspec": {
   "display_name": ".venv",
   "language": "python",
   "name": "python3"
  },
  "language_info": {
   "codemirror_mode": {
    "name": "ipython",
    "version": 3
   },
   "file_extension": ".py",
   "mimetype": "text/x-python",
   "name": "python",
   "nbconvert_exporter": "python",
   "pygments_lexer": "ipython3",
   "version": "3.12.3"
  }
 },
 "nbformat": 4,
 "nbformat_minor": 2
}
